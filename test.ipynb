{
 "cells": [
  {
   "cell_type": "code",
   "execution_count": 1,
   "metadata": {},
   "outputs": [],
   "source": [
    "import pandas as pd"
   ]
  },
  {
   "cell_type": "markdown",
   "metadata": {},
   "source": [
    "**CREATING INDIVIDUAL DATAFRAMES**"
   ]
  },
  {
   "cell_type": "code",
   "execution_count": 2,
   "metadata": {},
   "outputs": [],
   "source": [
    "amazon_df = pd.read_csv('amazon_reviews.csv')\n",
    "twitter_df = pd.read_csv('Tweets.csv')\n",
    "yelp_df = pd.read_csv('yelp.csv')"
   ]
  },
  {
   "cell_type": "code",
   "execution_count": 3,
   "metadata": {},
   "outputs": [
    {
     "name": "stdout",
     "output_type": "stream",
     "text": [
      "--------------------------AMAZON---------------------\n",
      "Index(['Unnamed: 0', 'reviewerName', 'overall', 'reviewText', 'reviewTime',\n",
      "       'day_diff', 'helpful_yes', 'helpful_no', 'total_vote',\n",
      "       'score_pos_neg_diff', 'score_average_rating', 'wilson_lower_bound'],\n",
      "      dtype='object')\n",
      "\n",
      "--------------------------TWITTER---------------------\n",
      "Index(['textID', 'text', 'selected_text', 'sentiment'], dtype='object')\n",
      "\n",
      "--------------------------YELP---------------------\n",
      "Index(['business_id', 'date', 'review_id', 'stars', 'text', 'type', 'user_id',\n",
      "       'cool', 'useful', 'funny'],\n",
      "      dtype='object')\n"
     ]
    }
   ],
   "source": [
    "print(\"--------------------------AMAZON---------------------\")\n",
    "print(amazon_df.columns)\n",
    "print(\"\\n--------------------------TWITTER---------------------\")\n",
    "print(twitter_df.columns)\n",
    "print(\"\\n--------------------------YELP---------------------\")\n",
    "print(yelp_df.columns)"
   ]
  },
  {
   "cell_type": "markdown",
   "metadata": {},
   "source": [
    "**PERFORMING DATA LOADING BY CHOOSING ONLY REQUIRED COLUMNS ON DATAFRAME**"
   ]
  },
  {
   "cell_type": "code",
   "execution_count": 4,
   "metadata": {},
   "outputs": [],
   "source": [
    "def data_loading(df,features,label):\n",
    "    df_reduced = df[features + label]      # + ----> concatanation \n",
    "    df_reduced = df_reduced.dropna(axis=0,how='any') #removing rows having nan\n",
    "    df_reduced.columns = ['review','analysis']\n",
    "    return df_reduced"
   ]
  },
  {
   "cell_type": "markdown",
   "metadata": {},
   "source": [
    "EXTRACTING REQUIRED COLUMNS FOR AMAZON REVIEWS"
   ]
  },
  {
   "cell_type": "code",
   "execution_count": 5,
   "metadata": {},
   "outputs": [
    {
     "data": {
      "text/html": [
       "<div>\n",
       "<style scoped>\n",
       "    .dataframe tbody tr th:only-of-type {\n",
       "        vertical-align: middle;\n",
       "    }\n",
       "\n",
       "    .dataframe tbody tr th {\n",
       "        vertical-align: top;\n",
       "    }\n",
       "\n",
       "    .dataframe thead th {\n",
       "        text-align: right;\n",
       "    }\n",
       "</style>\n",
       "<table border=\"1\" class=\"dataframe\">\n",
       "  <thead>\n",
       "    <tr style=\"text-align: right;\">\n",
       "      <th></th>\n",
       "      <th>review</th>\n",
       "      <th>analysis</th>\n",
       "    </tr>\n",
       "  </thead>\n",
       "  <tbody>\n",
       "    <tr>\n",
       "      <th>0</th>\n",
       "      <td>No issues.</td>\n",
       "      <td>4.0</td>\n",
       "    </tr>\n",
       "    <tr>\n",
       "      <th>1</th>\n",
       "      <td>Purchased this for my device, it worked as adv...</td>\n",
       "      <td>5.0</td>\n",
       "    </tr>\n",
       "    <tr>\n",
       "      <th>2</th>\n",
       "      <td>it works as expected. I should have sprung for...</td>\n",
       "      <td>4.0</td>\n",
       "    </tr>\n",
       "    <tr>\n",
       "      <th>3</th>\n",
       "      <td>This think has worked out great.Had a diff. br...</td>\n",
       "      <td>5.0</td>\n",
       "    </tr>\n",
       "    <tr>\n",
       "      <th>4</th>\n",
       "      <td>Bought it with Retail Packaging, arrived legit...</td>\n",
       "      <td>5.0</td>\n",
       "    </tr>\n",
       "  </tbody>\n",
       "</table>\n",
       "</div>"
      ],
      "text/plain": [
       "                                              review  analysis\n",
       "0                                         No issues.       4.0\n",
       "1  Purchased this for my device, it worked as adv...       5.0\n",
       "2  it works as expected. I should have sprung for...       4.0\n",
       "3  This think has worked out great.Had a diff. br...       5.0\n",
       "4  Bought it with Retail Packaging, arrived legit...       5.0"
      ]
     },
     "execution_count": 5,
     "metadata": {},
     "output_type": "execute_result"
    }
   ],
   "source": [
    "features = ['reviewText']\n",
    "label = ['overall']\n",
    "amazon_df_reduced = data_loading(amazon_df,features,label)\n",
    "amazon_df_reduced.head()"
   ]
  },
  {
   "cell_type": "markdown",
   "metadata": {},
   "source": [
    "EXTRACTING REQUIRED COLUMNS FOR TWITTER REVIEWS"
   ]
  },
  {
   "cell_type": "code",
   "execution_count": 6,
   "metadata": {},
   "outputs": [
    {
     "data": {
      "text/html": [
       "<div>\n",
       "<style scoped>\n",
       "    .dataframe tbody tr th:only-of-type {\n",
       "        vertical-align: middle;\n",
       "    }\n",
       "\n",
       "    .dataframe tbody tr th {\n",
       "        vertical-align: top;\n",
       "    }\n",
       "\n",
       "    .dataframe thead th {\n",
       "        text-align: right;\n",
       "    }\n",
       "</style>\n",
       "<table border=\"1\" class=\"dataframe\">\n",
       "  <thead>\n",
       "    <tr style=\"text-align: right;\">\n",
       "      <th></th>\n",
       "      <th>review</th>\n",
       "      <th>analysis</th>\n",
       "    </tr>\n",
       "  </thead>\n",
       "  <tbody>\n",
       "    <tr>\n",
       "      <th>0</th>\n",
       "      <td>I`d have responded, if I were going</td>\n",
       "      <td>neutral</td>\n",
       "    </tr>\n",
       "    <tr>\n",
       "      <th>1</th>\n",
       "      <td>Sooo SAD I will miss you here in San Diego!!!</td>\n",
       "      <td>negative</td>\n",
       "    </tr>\n",
       "    <tr>\n",
       "      <th>2</th>\n",
       "      <td>my boss is bullying me...</td>\n",
       "      <td>negative</td>\n",
       "    </tr>\n",
       "    <tr>\n",
       "      <th>3</th>\n",
       "      <td>what interview! leave me alone</td>\n",
       "      <td>negative</td>\n",
       "    </tr>\n",
       "    <tr>\n",
       "      <th>4</th>\n",
       "      <td>Sons of ****, why couldn`t they put them on t...</td>\n",
       "      <td>negative</td>\n",
       "    </tr>\n",
       "  </tbody>\n",
       "</table>\n",
       "</div>"
      ],
      "text/plain": [
       "                                              review  analysis\n",
       "0                I`d have responded, if I were going   neutral\n",
       "1      Sooo SAD I will miss you here in San Diego!!!  negative\n",
       "2                          my boss is bullying me...  negative\n",
       "3                     what interview! leave me alone  negative\n",
       "4   Sons of ****, why couldn`t they put them on t...  negative"
      ]
     },
     "execution_count": 6,
     "metadata": {},
     "output_type": "execute_result"
    }
   ],
   "source": [
    "features = ['text']\n",
    "label = ['sentiment']\n",
    "twitter_df_reduced = data_loading(twitter_df,features,label)\n",
    "twitter_df_reduced.head()"
   ]
  },
  {
   "cell_type": "markdown",
   "metadata": {},
   "source": [
    "EXTRACTING REQUIRED COLUMNS FOR YELP REVIEWS"
   ]
  },
  {
   "cell_type": "code",
   "execution_count": 7,
   "metadata": {},
   "outputs": [],
   "source": [
    "features = ['text']\n",
    "label = ['stars']\n",
    "yelp_df_reduced = data_loading(yelp_df,features,label)"
   ]
  },
  {
   "cell_type": "markdown",
   "metadata": {},
   "source": [
    "**DEALING WITH LABELS**"
   ]
  },
  {
   "cell_type": "code",
   "execution_count": 8,
   "metadata": {},
   "outputs": [
    {
     "name": "stdout",
     "output_type": "stream",
     "text": [
      "[4. 5. 3. 1. 2.]\n",
      "['neutral' 'negative' 'positive']\n",
      "[5 4 2 3 1]\n"
     ]
    }
   ],
   "source": [
    "print(amazon_df_reduced['analysis'].unique())\n",
    "print(twitter_df_reduced['analysis'].unique())\n",
    "print(yelp_df_reduced['analysis'].unique())"
   ]
  },
  {
   "cell_type": "markdown",
   "metadata": {},
   "source": [
    "MAPPING LABELS OF AMAZON REVIEW TO ['NEGATIVE','NEUTRAL','POSITIVE]"
   ]
  },
  {
   "cell_type": "code",
   "execution_count": 9,
   "metadata": {},
   "outputs": [],
   "source": [
    "for x in amazon_df_reduced['analysis'].unique():\n",
    "    if int(x)<=3:\n",
    "        #amazon_df_reduced.loc[amazon_df_reduced['analysis']==x,'analysis'] = 'negative'\n",
    "        amazon_df_reduced.loc[amazon_df_reduced['analysis']==x,'analysis'] = 0\n",
    "    #elif int(x)==3:\n",
    "    #    amazon_df_reduced.loc[amazon_df_reduced['analysis']==x,'analysis'] = 'neutral'\n",
    "    elif int(x)>=4:\n",
    "        #amazon_df_reduced.loc[amazon_df_reduced['analysis']==x,'analysis'] = 'positive'\n",
    "        amazon_df_reduced.loc[amazon_df_reduced['analysis']==x,'analysis'] = 1\n"
   ]
  },
  {
   "cell_type": "markdown",
   "metadata": {},
   "source": [
    "MAPPING LABELS OF TWITTER REVIEW TO ['NEGATIVE','NEUTRAL','POSITIVE]"
   ]
  },
  {
   "cell_type": "code",
   "execution_count": 10,
   "metadata": {},
   "outputs": [],
   "source": [
    "for x in twitter_df_reduced['analysis'].unique():\n",
    "    if x == 'negative':\n",
    "        #twitter_df_reduced.loc[twitter_df_reduced['analysis']==x,'analysis'] = 'negative'\n",
    "        twitter_df_reduced.loc[twitter_df_reduced['analysis']==x,'analysis'] = 0\n",
    "    elif x == 'neutral':\n",
    "        #twitter_df_reduced.loc[twitter_df_reduced['analysis']==x,'analysis'] = 'neutral'\n",
    "        twitter_df_reduced.loc[twitter_df_reduced['analysis']==x,'analysis'] = 0\n",
    "    elif x == 'positive':\n",
    "        #twitter_df_reduced.loc[twitter_df_reduced['analysis']==x,'analysis'] = 'positive'\n",
    "        twitter_df_reduced.loc[twitter_df_reduced['analysis']==x,'analysis'] = 1"
   ]
  },
  {
   "cell_type": "markdown",
   "metadata": {},
   "source": [
    "MAPPING LABELS OF AMAZON YELP TO ['NEGATIVE','NEUTRAL','POSITIVE]"
   ]
  },
  {
   "cell_type": "code",
   "execution_count": 11,
   "metadata": {},
   "outputs": [],
   "source": [
    "for x in yelp_df_reduced['analysis'].unique():\n",
    "    if int(x)<=3:\n",
    "        #yelp_df_reduced.loc[yelp_df_reduced['analysis']==x,'analysis'] = 'negative'\n",
    "        yelp_df_reduced.loc[yelp_df_reduced['analysis']==x,'analysis'] = 0\n",
    "    #elif int(x)==3:\n",
    "    #    yelp_df_reduced.loc[yelp_df_reduced['analysis']==x,'analysis'] = 'neutral'\n",
    "    elif int(x)>=4:\n",
    "        #yelp_df_reduced.loc[yelp_df_reduced['analysis']==x,'analysis'] = 'positive'\n",
    "        yelp_df_reduced.loc[yelp_df_reduced['analysis']==x,'analysis'] = 1"
   ]
  },
  {
   "cell_type": "markdown",
   "metadata": {},
   "source": [
    "**AGGREGATING DATAFRAMES**"
   ]
  },
  {
   "cell_type": "code",
   "execution_count": 12,
   "metadata": {},
   "outputs": [
    {
     "name": "stdout",
     "output_type": "stream",
     "text": [
      "Number of classes : 2\n",
      "\n",
      "True\n",
      "\n",
      "review      0\n",
      "analysis    0\n",
      "dtype: int64\n"
     ]
    }
   ],
   "source": [
    "df = pd.concat([amazon_df_reduced,twitter_df_reduced,yelp_df_reduced],axis=0,names=['review','analysis'])\n",
    "\n",
    "print(\"Number of classes :\",len(df['analysis'].unique()))\n",
    "print()\n",
    "print(df.shape[0] == amazon_df_reduced.shape[0]+twitter_df_reduced.shape[0]+yelp_df_reduced.shape[0])\n",
    "print()\n",
    "print(df.isna().sum())"
   ]
  },
  {
   "cell_type": "code",
   "execution_count": 13,
   "metadata": {},
   "outputs": [
    {
     "data": {
      "text/plain": [
       "\"X = df['review'].to_frame()\\ny = df['analysis'].to_frame()\\nX.shape[0] == y.shape[0]\""
      ]
     },
     "execution_count": 13,
     "metadata": {},
     "output_type": "execute_result"
    }
   ],
   "source": [
    "'''X = df['review'].to_frame()\n",
    "y = df['analysis'].to_frame()\n",
    "X.shape[0] == y.shape[0]'''"
   ]
  },
  {
   "cell_type": "code",
   "execution_count": 14,
   "metadata": {},
   "outputs": [
    {
     "data": {
      "text/plain": [
       "\"X = df['review'].to_frame()\\ny = df['analysis'].to_frame()\\nX.shape[0] == y.shape[0]\""
      ]
     },
     "execution_count": 14,
     "metadata": {},
     "output_type": "execute_result"
    }
   ],
   "source": [
    "'''X = df['review'].to_frame()\n",
    "y = df['analysis'].to_frame()\n",
    "X.shape[0] == y.shape[0]'''"
   ]
  },
  {
   "cell_type": "code",
   "execution_count": 15,
   "metadata": {},
   "outputs": [],
   "source": [
    "import re\n",
    "from sklearn.pipeline import Pipeline\n",
    "import spacy\n",
    "from nltk.stem import WordNetLemmatizer\n",
    "from nltk.corpus import stopwords\n",
    "word_lemmatizer = WordNetLemmatizer()\n",
    "nlp = spacy.load(\"en_core_web_sm\")"
   ]
  },
  {
   "cell_type": "code",
   "execution_count": 16,
   "metadata": {},
   "outputs": [],
   "source": [
    "def preprocess(sentence):\n",
    "    sentence = re.sub('<[^>]*>','',sentence)\n",
    "    emoticons = re.findall(':-?[()]',sentence)\n",
    "    sentence = re.sub('[\\W]+|[\\d]+',' ',sentence.lower()) + ' '.join(emoticons)\n",
    "    return sentence"
   ]
  },
  {
   "cell_type": "code",
   "execution_count": 17,
   "metadata": {},
   "outputs": [],
   "source": [
    "def lemmatizer(sentence):\n",
    "    '''\n",
    "    lem_sent = []\n",
    "    for word in nlp(sentence):\n",
    "        lem_sent.append(word.lemma_)\n",
    "    return ''.join(lem_sent)\n",
    "    '''\n",
    "    \n",
    "    return ''.join([word_lemmatizer.lemmatize(word) for word in sentence])"
   ]
  },
  {
   "cell_type": "code",
   "execution_count": 18,
   "metadata": {},
   "outputs": [],
   "source": [
    "def stop_words_remover(sentence):\n",
    "    sentence = ''.join(sentence)\n",
    "    stopwords = nlp.Defaults.stop_words\n",
    "    new_sent = ''\n",
    "    for word_token in sentence.split():\n",
    "        if word_token not in stopwords:\n",
    "            new_sent = new_sent + word_token + ' '\n",
    "    return new_sent\n",
    "    \n",
    "    '''\n",
    "    stop_words = stopwords.words('english')\n",
    "    return ''.join([word for word in sentence if word not in stop_words])\n",
    "    '''"
   ]
  },
  {
   "cell_type": "code",
   "execution_count": 19,
   "metadata": {},
   "outputs": [
    {
     "data": {
      "text/plain": [
       "(0,)"
      ]
     },
     "execution_count": 19,
     "metadata": {},
     "output_type": "execute_result"
    }
   ],
   "source": [
    "import numpy as np\n",
    "X_ = np.array([])\n",
    "np.append(X_,[['asc']])\n",
    "np.append(X_,[['cdsf']])\n",
    "X_.shape"
   ]
  },
  {
   "cell_type": "code",
   "execution_count": 20,
   "metadata": {},
   "outputs": [],
   "source": [
    "from sklearn.base import TransformerMixin,BaseEstimator\n",
    "class DataCleaner(BaseEstimator,TransformerMixin):\n",
    "    def __init__(self,X,y):\n",
    "        self.X = X\n",
    "        self.y = y\n",
    "        \n",
    "    \n",
    "    def fit(self,X,y=None):\n",
    "        return self\n",
    "\n",
    "    def transform(self,X,y=None):\n",
    "        X_ = X.copy()\n",
    "        for i in range(X_.shape[0]):\n",
    "            X_.iloc[i] = preprocess(X_.iloc[i])\n",
    "            X_.iloc[i] = stop_words_remover(X_.iloc[i])\n",
    "            X_.iloc[i] = lemmatizer(X_.iloc[i])\n",
    "        return X_"
   ]
  },
  {
   "cell_type": "code",
   "execution_count": 21,
   "metadata": {},
   "outputs": [
    {
     "data": {
      "text/plain": [
       "\"\\ndf['review'] = df['review'].apply(preprocess)\\ndf['review'] = df['review'].apply(stop_words_remover)\\ndf['review'] = df['review'].apply(lemmatizer)\\n\""
      ]
     },
     "execution_count": 21,
     "metadata": {},
     "output_type": "execute_result"
    }
   ],
   "source": [
    "'''\n",
    "df['review'] = df['review'].apply(preprocess)\n",
    "df['review'] = df['review'].apply(stop_words_remover)\n",
    "df['review'] = df['review'].apply(lemmatizer)\n",
    "'''"
   ]
  },
  {
   "cell_type": "code",
   "execution_count": 22,
   "metadata": {},
   "outputs": [],
   "source": [
    "from sklearn.feature_extraction.text import TfidfVectorizer\n",
    "tfidf = TfidfVectorizer(lowercase=False,\n",
    "                        #preprocessor=preprocess,\n",
    "                        #tokenizer=lemmatizer,\n",
    "                        #stop_words=nlp.Defaults.stop_words,\n",
    "                        use_idf=True,\n",
    "                        norm='l2',\n",
    "                        smooth_idf=True\n",
    "                        )\n",
    "                        "
   ]
  },
  {
   "cell_type": "code",
   "execution_count": 23,
   "metadata": {},
   "outputs": [
    {
     "name": "stdout",
     "output_type": "stream",
     "text": [
      "[0 1]\n"
     ]
    }
   ],
   "source": [
    "X = df['review']\n",
    "y = df['analysis']\n",
    "y = y.astype('int')\n",
    "print(y.unique())"
   ]
  },
  {
   "cell_type": "code",
   "execution_count": 24,
   "metadata": {},
   "outputs": [],
   "source": [
    "from sklearn.model_selection import train_test_split\n",
    "from sklearn.svm import LinearSVC\n",
    "X_train, X_test, y_train, y_test = train_test_split(X,y,shuffle=True,test_size=0.5,random_state=39)\n",
    "clf = LinearSVC()"
   ]
  },
  {
   "cell_type": "code",
   "execution_count": 25,
   "metadata": {},
   "outputs": [],
   "source": [
    "pipe = Pipeline([\n",
    "                ('data_cleaning',DataCleaner(X,y)),\n",
    "                ('vectorizer',tfidf),\n",
    "                ('classifier',clf)\n",
    "        ])"
   ]
  },
  {
   "cell_type": "code",
   "execution_count": 26,
   "metadata": {},
   "outputs": [
    {
     "data": {
      "text/plain": [
       "True"
      ]
     },
     "execution_count": 26,
     "metadata": {},
     "output_type": "execute_result"
    }
   ],
   "source": [
    "X_train.shape[0] == y_train.shape[0]"
   ]
  },
  {
   "cell_type": "code",
   "execution_count": 6,
   "metadata": {},
   "outputs": [
    {
     "name": "stderr",
     "output_type": "stream",
     "text": [
      "[nltk_data] Downloading package wordnet to\n",
      "[nltk_data]     /Users/arunkumar/nltk_data...\n",
      "[nltk_data]   Package wordnet is already up-to-date!\n"
     ]
    },
    {
     "data": {
      "text/plain": [
       "True"
      ]
     },
     "execution_count": 6,
     "metadata": {},
     "output_type": "execute_result"
    }
   ],
   "source": [
    "import nltk\n",
    "import ssl\n",
    "\n",
    "try:\n",
    "    _create_unverified_https_context = ssl._create_unverified_context\n",
    "except AttributeError:\n",
    "    pass\n",
    "else:\n",
    "    ssl._create_default_https_context = _create_unverified_https_context\n",
    "    \n",
    "nltk.download('wordnet')"
   ]
  },
  {
   "cell_type": "code",
   "execution_count": 7,
   "metadata": {},
   "outputs": [
    {
     "ename": "NameError",
     "evalue": "name 'pipe' is not defined",
     "output_type": "error",
     "traceback": [
      "\u001b[0;31m---------------------------------------------------------------------------\u001b[0m",
      "\u001b[0;31mNameError\u001b[0m                                 Traceback (most recent call last)",
      "\u001b[1;32m/Users/arunkumar/Documents/GitHub/Sentiment_Analysis/test.ipynb Cell 38\u001b[0m in \u001b[0;36m<cell line: 1>\u001b[0;34m()\u001b[0m\n\u001b[0;32m----> <a href='vscode-notebook-cell:/Users/arunkumar/Documents/GitHub/Sentiment_Analysis/test.ipynb#X52sZmlsZQ%3D%3D?line=0'>1</a>\u001b[0m pipe\u001b[39m.\u001b[39mfit(X_train,y_train)\n",
      "\u001b[0;31mNameError\u001b[0m: name 'pipe' is not defined"
     ]
    }
   ],
   "source": [
    "pipe.fit(X_train,y_train)"
   ]
  },
  {
   "cell_type": "code",
   "execution_count": 36,
   "metadata": {},
   "outputs": [
    {
     "data": {
      "text/plain": [
       "0.878426192385715"
      ]
     },
     "execution_count": 36,
     "metadata": {},
     "output_type": "execute_result"
    }
   ],
   "source": [
    "pipe.score(X_test,y_test)"
   ]
  },
  {
   "cell_type": "code",
   "execution_count": 37,
   "metadata": {},
   "outputs": [
    {
     "data": {
      "text/plain": [
       "array([1])"
      ]
     },
     "execution_count": 37,
     "metadata": {},
     "output_type": "execute_result"
    }
   ],
   "source": [
    "test_val = pd.Series(['This was great'])\n",
    "pipe.predict(test_val)"
   ]
  },
  {
   "cell_type": "code",
   "execution_count": null,
   "metadata": {},
   "outputs": [],
   "source": []
  }
 ],
 "metadata": {
  "kernelspec": {
   "display_name": "Python 3.9.2 64-bit",
   "language": "python",
   "name": "python3"
  },
  "language_info": {
   "codemirror_mode": {
    "name": "ipython",
    "version": 3
   },
   "file_extension": ".py",
   "mimetype": "text/x-python",
   "name": "python",
   "nbconvert_exporter": "python",
   "pygments_lexer": "ipython3",
   "version": "3.9.2"
  },
  "orig_nbformat": 4,
  "vscode": {
   "interpreter": {
    "hash": "949777d72b0d2535278d3dc13498b2535136f6dfe0678499012e853ee9abcab1"
   }
  }
 },
 "nbformat": 4,
 "nbformat_minor": 2
}
